{
 "cells": [
  {
   "cell_type": "markdown",
   "id": "ebd408f8",
   "metadata": {},
   "source": [
    "## Remap File Creation for mizuRoute for Gridded Runoff Field (CLM)\n",
    "\n",
    "This section describes the steps to prepare a remap file for use with **mizuRoute**, converting runoff data from either structured or unstructured meshes to river network routing subbasins using **EASYMORE**.\n",
    "\n",
    "### Overview\n",
    "\n",
    "To generate the remap file, users should first call the **EASYMORE `nc_remapper`** function, providing:\n",
    "\n",
    "- A **target shapefile** (e.g., river network subbasins), and  \n",
    "- A **sample NetCDF file** containing the runoff field.\n",
    "\n",
    "### Notes on Large River Networks\n",
    "\n",
    "If the target river network topology is extensive or divided into multiple regions (e.g., continents or sub-regions), the remap files can be generated **separately for each part**, and later **merged into a single remap file**. After merging, the final **NetCDF remap file** can be created for use with mizuRoute.\n",
    "\n",
    "### mizuRoute Control File\n",
    "\n",
    "For the example provided here, the mizuRoute control file, including runoff file and remapping file specifications are as below:\n",
    "\n",
    "```\n",
    "! ****************************************************************************************************************************\n",
    "! DEFINE RUNOFF FILE\n",
    "! ----------------------------------\n",
    "<fname_qsim>               CLM_sample.nc          ! name of netCDF containing the HRU runoff\n",
    "<vname_qsim>               QRUNOFF                ! name of HRU runoff variable\n",
    "<vname_time>               time                   ! name of time variable in the runoff file\n",
    "<dname_time>               time                   ! name of time dimension\n",
    "<dname_xlon>               lon                    ! name of x(j) dimension\n",
    "<dname_ylat>               lat                    ! name of y(i) dimension\n",
    "<units_qsim>               mm/s                   ! units of runoff\n",
    "<dt_qsim>                  86400                  ! time interval of the runoff\n",
    "! ****************************************************************************************************************************\n",
    "! DEFINE RUNOFF MAPPING FILE\n",
    "! ----------------------------------\n",
    "<is_remap>                 T                      ! logical whether or not runnoff needs to be mapped to river network HRU\n",
    "<fname_remap>              CLM_MedicineHat_mizuRoute_remapping.nc ! name of netCDF containing poly-poly mapping data\n",
    "<dname_hru_remap>          polyid                 ! name of hru dimension name\n",
    "<vname_hruid_in_remap>     RN_ID                  ! name of variable containing river network HRU\n",
    "<vname_num_qhru>           RN_FR                  ! name of variable containing numbers of runoff HRUs within each river network HRU\n",
    "<dname_data_remap>         intersect              ! name of data dimension name\n",
    "<vname_weight>             weight                 ! name of variable contating areal weights of runoff HRUs within each river network HRU\n",
    "<vname_i_index>            i_index                ! name of ylat index\n",
    "<vname_j_index>            j_index                ! name of xlon index\n",
    "! ****************************************************************************************************************************\n",
    "```"
   ]
  },
  {
   "cell_type": "code",
   "execution_count": null,
   "id": "04c947d9-8d9e-4af7-8456-e3d1157b4283",
   "metadata": {},
   "outputs": [],
   "source": [
    "# loading EASYMORE and other packages\n",
    "from easymore import Easymore\n",
    "from mizuRoute_remapping_file_creation import mizuRoute_remapping_file_creation\n",
    "import os"
   ]
  },
  {
   "cell_type": "code",
   "execution_count": null,
   "id": "80b43c6e-a10e-46d5-a097-0c7f3d3ac553",
   "metadata": {},
   "outputs": [],
   "source": [
    "# Generate easymore remapping file\n",
    "esmr = Easymore()\n",
    "# Set parameters individually\n",
    "esmr.case_name            = \"CLM_MedicineHat\"\n",
    "esmr.source_nc            = \"../data/runoff/CLM/CLM_sample.nc\"\n",
    "esmr.var_names            = [\"QRUNOFF\"]\n",
    "esmr.var_lon              = \"lon\"\n",
    "esmr.var_lat              = \"lat\"\n",
    "esmr.var_time             = \"time\"\n",
    "esmr.target_shp           = \"../data/subbasins/South_Saskatchewan_MedicineHat.shp\"\n",
    "esmr.target_shp_ID        = \"COMID\"\n",
    "esmr.output_dir           = \"../output/\"\n",
    "esmr.temp_dir             = \"../temporary/\"\n",
    "esmr.only_create_remap_nc = True  # optional, only if you want remap file and not output data\n",
    "# execute EASYMORE\n",
    "esmr.nc_remapper()"
   ]
  },
  {
   "cell_type": "code",
   "execution_count": null,
   "id": "5337a24d-e417-4d99-8e91-4a4befddf666",
   "metadata": {},
   "outputs": [],
   "source": [
    "# Prepare mizuRoute remapping file from easymore remapping file and save\n",
    "easymore_remapping_file = os.path.join(esmr.temp_dir, esmr.case_name+'_remapping.nc')\n",
    "mizuRoute_remapping_file = mizuRoute_remapping_file_creation(easymore_remapping_file)\n",
    "mizuRoute_remapping_file_name = os.path.join(esmr.output_dir, esmr.case_name+'_mizuRoute_remapping.nc')\n",
    "if os.path.isfile(mizuRoute_remapping_file_name):\n",
    "    os.remove(mizuRoute_remapping_file_name)\n",
    "mizuRoute_remapping_file.to_netcdf(mizuRoute_remapping_file_name)\n",
    "mizuRoute_remapping_file"
   ]
  },
  {
   "cell_type": "code",
   "execution_count": null,
   "id": "2861bb3e-57f7-418a-9dbf-9c043b8a1854",
   "metadata": {},
   "outputs": [],
   "source": []
  }
 ],
 "metadata": {
  "kernelspec": {
   "display_name": "aon_venv",
   "language": "python",
   "name": "aon_venv"
  },
  "language_info": {
   "codemirror_mode": {
    "name": "ipython",
    "version": 3
   },
   "file_extension": ".py",
   "mimetype": "text/x-python",
   "name": "python",
   "nbconvert_exporter": "python",
   "pygments_lexer": "ipython3",
   "version": "3.9.2"
  }
 },
 "nbformat": 4,
 "nbformat_minor": 5
}
